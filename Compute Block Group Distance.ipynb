{
 "cells": [
  {
   "cell_type": "code",
   "execution_count": 1,
   "metadata": {},
   "outputs": [],
   "source": [
    "from pathlib import Path\n",
    "import pandas as pd\n",
    "import geopandas as gpd\n",
    "import numpy as np\n",
    "from datetime import datetime\n",
    "\n",
    "import dask\n",
    "import dask.dataframe as dd\n",
    "\n",
    "from dask.distributed import Client\n",
    "from datetime import datetime\n",
    "\n",
    "# Reduce the number of workers, because we need lots of RAM for loading the CBG shapefile\n",
    "client = Client(n_workers=2)"
   ]
  },
  {
   "cell_type": "code",
   "execution_count": 2,
   "metadata": {},
   "outputs": [],
   "source": [
    "# folder = Path(\"data/reference/census/\")\n",
    "# shapefiles = folder.glob(\"**/*bg.shp\")\n",
    "# gdf = pd.concat([\n",
    "#     gpd.read_file(shp)\n",
    "#     for shp in shapefiles\n",
    "# ]).pipe(gpd.GeoDataFrame)\n",
    "# gdf.crs = 'epsg:4269'\n",
    "# gdf.to_file(folder / 'block_groups.shp')\n",
    "folder = Path(\"data/reference/census/\")\n",
    "# shapefiles = folder.glob(\"**/*bg.shp\")\n",
    "# gdf = pd.concat([\n",
    "#     gpd.read_file(shp)\n",
    "#     for shp in shapefiles\n",
    "# ]).pipe(gpd.GeoDataFrame)\n",
    "gdf = gpd.read_file(folder / 'block_groups.shp')"
   ]
  },
  {
   "cell_type": "code",
   "execution_count": 3,
   "metadata": {},
   "outputs": [],
   "source": [
    "df = gdf[['GEOID', 'geometry']]"
   ]
  },
  {
   "cell_type": "code",
   "execution_count": 4,
   "metadata": {},
   "outputs": [
    {
     "name": "stderr",
     "output_type": "stream",
     "text": [
      "/Users/raac/Development/covid/mobility-analysis/venv/lib/python3.7/site-packages/ipykernel_launcher.py:1: SettingWithCopyWarning: \n",
      "A value is trying to be set on a copy of a slice from a DataFrame.\n",
      "Try using .loc[row_indexer,col_indexer] = value instead\n",
      "\n",
      "See the caveats in the documentation: https://pandas.pydata.org/pandas-docs/stable/user_guide/indexing.html#returning-a-view-versus-a-copy\n",
      "  \"\"\"Entry point for launching an IPython kernel.\n",
      "/Users/raac/Development/covid/mobility-analysis/venv/lib/python3.7/site-packages/ipykernel_launcher.py:2: SettingWithCopyWarning: \n",
      "A value is trying to be set on a copy of a slice from a DataFrame.\n",
      "Try using .loc[row_indexer,col_indexer] = value instead\n",
      "\n",
      "See the caveats in the documentation: https://pandas.pydata.org/pandas-docs/stable/user_guide/indexing.html#returning-a-view-versus-a-copy\n",
      "  \n"
     ]
    }
   ],
   "source": [
    "df['lon'] = df.geometry.apply(lambda g: g.centroid.x)\n",
    "df['lat'] = df.geometry.apply(lambda g: g.centroid.y)\n",
    "df = df.drop(['geometry'], axis=1)\n",
    "df.head()\n",
    "df.to_parquet(\"data/output/cbg_centroid.parquet\")"
   ]
  },
  {
   "cell_type": "code",
   "execution_count": 5,
   "metadata": {},
   "outputs": [],
   "source": [
    "df = dd.read_parquet(\"data/output/cbg_centroid.parquet\")"
   ]
  },
  {
   "cell_type": "code",
   "execution_count": 6,
   "metadata": {},
   "outputs": [],
   "source": [
    "def cartesian_product_simplified(left, right):\n",
    "    la, lb = len(left), len(right)\n",
    "    ia2, ib2 = np.broadcast_arrays(*np.ogrid[:la,:lb])\n",
    "\n",
    "    return pd.DataFrame(\n",
    "        np.column_stack([left.values[ia2.ravel()], right.values[ib2.ravel()]]))"
   ]
  },
  {
   "cell_type": "code",
   "execution_count": null,
   "metadata": {},
   "outputs": [],
   "source": [
    "joined = cartesian_product_simplified(df, df) #.rename(columns={0: 'geoid_orig', 1: 'geom_orig', 2: 'geoid_dest', 3: 'geom_dest'})\n",
    "# joined['centroid_orig'] = joined['geom_orig'].apply(lambda x: x.centroid)\n",
    "# joined['centroid_dest'] = joined['geom_dest'].apply(lambda x: x.centroid)\n",
    "# joined['dist'] = joined.apply(lambda row: row['centroid_orig'].distance(row['centroid_dest']), axis=1)\n",
    "joined.head()"
   ]
  },
  {
   "cell_type": "code",
   "execution_count": null,
   "metadata": {},
   "outputs": [],
   "source": [
    "joined.to_file(folder / 'block_groups.shp')"
   ]
  },
  {
   "cell_type": "code",
   "execution_count": null,
   "metadata": {},
   "outputs": [],
   "source": [
    "joined[['geoid_orig']]"
   ]
  },
  {
   "cell_type": "code",
   "execution_count": null,
   "metadata": {},
   "outputs": [],
   "source": [
    "folder = Path(\"data/reference/census/\")\n",
    "# shapefiles = folder.glob(\"**/*bg.shp\")\n",
    "# gdf = pd.concat([\n",
    "#     gpd.read_file(shp)\n",
    "#     for shp in shapefiles\n",
    "# ]).pipe(gpd.GeoDataFrame)\n",
    "gdf = gpd.read_file(folder / 'block_groups.shp')"
   ]
  },
  {
   "cell_type": "code",
   "execution_count": null,
   "metadata": {},
   "outputs": [],
   "source": [
    "gdf.head()"
   ]
  },
  {
   "cell_type": "code",
   "execution_count": null,
   "metadata": {},
   "outputs": [],
   "source": []
  }
 ],
 "metadata": {
  "kernelspec": {
   "display_name": "Python 3",
   "language": "python",
   "name": "python3"
  },
  "language_info": {
   "codemirror_mode": {
    "name": "ipython",
    "version": 3
   },
   "file_extension": ".py",
   "mimetype": "text/x-python",
   "name": "python",
   "nbconvert_exporter": "python",
   "pygments_lexer": "ipython3",
   "version": "3.7.7"
  }
 },
 "nbformat": 4,
 "nbformat_minor": 4
}
