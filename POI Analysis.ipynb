{
 "cells": [
  {
   "cell_type": "code",
   "execution_count": 1,
   "metadata": {},
   "outputs": [],
   "source": [
    "import dask.dataframe as pd\n",
    "import dask\n",
    "\n",
    "from dask.distributed import Client\n",
    "from datetime import datetime\n",
    "\n",
    "# client = Client(n_workers=8)\n",
    "\n",
    "# CADES configuration\n",
    "from dask_jobqueue import SLURMCluster\n",
    "cluster = SLURMCluster(project='birthright', queue='high_mem_cd', cores=30, memory='150 GB', job_extra=[\"-N 1\"], interface=\"ib0\")\n",
    "client = Client(cluster)"
   ]
  },
  {
   "cell_type": "code",
   "execution_count": 2,
   "metadata": {},
   "outputs": [],
   "source": [
    "def to_date(d):\n",
    "    if \":\" == d[-3:-2]:\n",
    "        d = d[:-3]+d[-2:]\n",
    "    return d"
   ]
  },
  {
   "cell_type": "code",
   "execution_count": 3,
   "metadata": {
    "scrolled": false
   },
   "outputs": [],
   "source": [
    "patterns = pd.read_csv(\"data/safegraph/weekly-patterns/*patterns*\", dtype={'naics_code': 'float64'}).set_index('safegraph_place_id')\n",
    "patterns['date'] = patterns['date_range_start'].apply(lambda x: datetime.strptime(to_date(x), '%Y-%m-%dT%H:%M:%S%z').date(), meta=('date_range_start', 'object'))"
   ]
  },
  {
   "cell_type": "code",
   "execution_count": 13,
   "metadata": {},
   "outputs": [
    {
     "data": {
      "text/html": [
       "<div><strong>Dask DataFrame Structure:</strong></div>\n",
       "<div>\n",
       "<style scoped>\n",
       "    .dataframe tbody tr th:only-of-type {\n",
       "        vertical-align: middle;\n",
       "    }\n",
       "\n",
       "    .dataframe tbody tr th {\n",
       "        vertical-align: top;\n",
       "    }\n",
       "\n",
       "    .dataframe thead th {\n",
       "        text-align: right;\n",
       "    }\n",
       "</style>\n",
       "<table border=\"1\" class=\"dataframe\">\n",
       "  <thead>\n",
       "    <tr style=\"text-align: right;\">\n",
       "      <th></th>\n",
       "      <th>region</th>\n",
       "      <th>date</th>\n",
       "      <th>naics_4</th>\n",
       "      <th>raw_visit_counts</th>\n",
       "    </tr>\n",
       "    <tr>\n",
       "      <th>npartitions=1</th>\n",
       "      <th></th>\n",
       "      <th></th>\n",
       "      <th></th>\n",
       "      <th></th>\n",
       "    </tr>\n",
       "  </thead>\n",
       "  <tbody>\n",
       "    <tr>\n",
       "      <th></th>\n",
       "      <td>object</td>\n",
       "      <td>object</td>\n",
       "      <td>object</td>\n",
       "      <td>int64</td>\n",
       "    </tr>\n",
       "    <tr>\n",
       "      <th></th>\n",
       "      <td>...</td>\n",
       "      <td>...</td>\n",
       "      <td>...</td>\n",
       "      <td>...</td>\n",
       "    </tr>\n",
       "  </tbody>\n",
       "</table>\n",
       "</div>\n",
       "<div>Dask Name: reset_index, 11400 tasks</div>"
      ],
      "text/plain": [
       "Dask DataFrame Structure:\n",
       "               region    date naics_4 raw_visit_counts\n",
       "npartitions=1                                         \n",
       "               object  object  object            int64\n",
       "                  ...     ...     ...              ...\n",
       "Dask Name: reset_index, 11400 tasks"
      ]
     },
     "execution_count": 13,
     "metadata": {},
     "output_type": "execute_result"
    }
   ],
   "source": [
    "patterns_grouped = patterns.groupby(['region', 'date', 'naics_4']).raw_visit_counts.sum().reset_index()"
   ]
  },
  {
   "cell_type": "code",
   "execution_count": 6,
   "metadata": {},
   "outputs": [],
   "source": [
    "essential = pd.read_csv(\"data/reference/essential_services_unique.csv\", dtype={'naics_code': 'str'})\n",
    "essential = essential[essential.essential]"
   ]
  },
  {
   "cell_type": "code",
   "execution_count": 14,
   "metadata": {},
   "outputs": [],
   "source": [
    "patterns_joined = patterns_grouped.merge(essential, how='left', left_on='naics_4', right_on='naics_code')"
   ]
  },
  {
   "cell_type": "code",
   "execution_count": null,
   "metadata": {},
   "outputs": [
    {
     "name": "stderr",
     "output_type": "stream",
     "text": [
      "distributed.nanny - WARNING - Worker exceeded 95% memory budget. Restarting\n",
      "distributed.nanny - WARNING - Restarting worker\n"
     ]
    },
    {
     "data": {
      "text/plain": [
       "['/Users/raac/Development/covid/mobility-analysis/data/output/NAICS-visits-State.csv/0.part']"
      ]
     },
     "execution_count": 15,
     "metadata": {},
     "output_type": "execute_result"
    }
   ],
   "source": [
    "patterns_joined.to_csv(\"data/output/NAICS-visits-State.csv\")"
   ]
  },
  {
   "cell_type": "code",
   "execution_count": 69,
   "metadata": {},
   "outputs": [
    {
     "data": {
      "text/html": [
       "<div>\n",
       "<style scoped>\n",
       "    .dataframe tbody tr th:only-of-type {\n",
       "        vertical-align: middle;\n",
       "    }\n",
       "\n",
       "    .dataframe tbody tr th {\n",
       "        vertical-align: top;\n",
       "    }\n",
       "\n",
       "    .dataframe thead th {\n",
       "        text-align: right;\n",
       "    }\n",
       "</style>\n",
       "<table border=\"1\" class=\"dataframe\">\n",
       "  <thead>\n",
       "    <tr style=\"text-align: right;\">\n",
       "      <th></th>\n",
       "      <th>region</th>\n",
       "      <th>date</th>\n",
       "      <th>naics_4</th>\n",
       "      <th>raw_visit_counts</th>\n",
       "      <th>naics_code</th>\n",
       "      <th>essential</th>\n",
       "    </tr>\n",
       "    <tr>\n",
       "      <th>Unnamed: 0</th>\n",
       "      <th></th>\n",
       "      <th></th>\n",
       "      <th></th>\n",
       "      <th></th>\n",
       "      <th></th>\n",
       "      <th></th>\n",
       "    </tr>\n",
       "  </thead>\n",
       "  <tbody>\n",
       "    <tr>\n",
       "      <th>0</th>\n",
       "      <td>AL</td>\n",
       "      <td>2019-12-31</td>\n",
       "      <td>4461</td>\n",
       "      <td>602451</td>\n",
       "      <td>4461</td>\n",
       "      <td>True</td>\n",
       "    </tr>\n",
       "    <tr>\n",
       "      <th>1</th>\n",
       "      <td>AL</td>\n",
       "      <td>2019-12-31</td>\n",
       "      <td>4523</td>\n",
       "      <td>1979675</td>\n",
       "      <td>4523</td>\n",
       "      <td>True</td>\n",
       "    </tr>\n",
       "    <tr>\n",
       "      <th>2</th>\n",
       "      <td>AL</td>\n",
       "      <td>2019-12-31</td>\n",
       "      <td>6113</td>\n",
       "      <td>501601</td>\n",
       "      <td>False</td>\n",
       "      <td>False</td>\n",
       "    </tr>\n",
       "    <tr>\n",
       "      <th>3</th>\n",
       "      <td>AL</td>\n",
       "      <td>2020-01-31</td>\n",
       "      <td>4461</td>\n",
       "      <td>540199</td>\n",
       "      <td>4461</td>\n",
       "      <td>True</td>\n",
       "    </tr>\n",
       "    <tr>\n",
       "      <th>4</th>\n",
       "      <td>AL</td>\n",
       "      <td>2020-01-31</td>\n",
       "      <td>4523</td>\n",
       "      <td>1890415</td>\n",
       "      <td>4523</td>\n",
       "      <td>True</td>\n",
       "    </tr>\n",
       "  </tbody>\n",
       "</table>\n",
       "</div>"
      ],
      "text/plain": [
       "           region        date naics_4  raw_visit_counts naics_code  essential\n",
       "Unnamed: 0                                                                   \n",
       "0              AL  2019-12-31    4461            602451       4461       True\n",
       "1              AL  2019-12-31    4523           1979675       4523       True\n",
       "2              AL  2019-12-31    6113            501601      False      False\n",
       "3              AL  2020-01-31    4461            540199       4461       True\n",
       "4              AL  2020-01-31    4523           1890415       4523       True"
      ]
     },
     "execution_count": 69,
     "metadata": {},
     "output_type": "execute_result"
    }
   ],
   "source": [
    "naics_essential = pd.read_csv(\"data/output/NAICS-visits-State.csv/0.part\")\n",
    "naics_essential = naics_essential.set_index('Unnamed: 0')\n",
    "naics_essential = naics_essential.fillna(False)"
   ]
  },
  {
   "cell_type": "code",
   "execution_count": 70,
   "metadata": {},
   "outputs": [
    {
     "data": {
      "text/html": [
       "<div>\n",
       "<style scoped>\n",
       "    .dataframe tbody tr th:only-of-type {\n",
       "        vertical-align: middle;\n",
       "    }\n",
       "\n",
       "    .dataframe tbody tr th {\n",
       "        vertical-align: top;\n",
       "    }\n",
       "\n",
       "    .dataframe thead th {\n",
       "        text-align: right;\n",
       "    }\n",
       "</style>\n",
       "<table border=\"1\" class=\"dataframe\">\n",
       "  <thead>\n",
       "    <tr style=\"text-align: right;\">\n",
       "      <th></th>\n",
       "      <th>Unnamed: 0</th>\n",
       "      <th>region</th>\n",
       "      <th>date</th>\n",
       "      <th>naics_4</th>\n",
       "      <th>raw_visit_counts</th>\n",
       "      <th>naics_code</th>\n",
       "      <th>essential</th>\n",
       "    </tr>\n",
       "    <tr>\n",
       "      <th>index</th>\n",
       "      <th></th>\n",
       "      <th></th>\n",
       "      <th></th>\n",
       "      <th></th>\n",
       "      <th></th>\n",
       "      <th></th>\n",
       "      <th></th>\n",
       "    </tr>\n",
       "  </thead>\n",
       "  <tbody>\n",
       "    <tr>\n",
       "      <th>0</th>\n",
       "      <td>0</td>\n",
       "      <td>AL</td>\n",
       "      <td>2019-12-31</td>\n",
       "      <td>4461.0</td>\n",
       "      <td>602451</td>\n",
       "      <td>4461.0</td>\n",
       "      <td>True</td>\n",
       "    </tr>\n",
       "    <tr>\n",
       "      <th>1</th>\n",
       "      <td>1</td>\n",
       "      <td>AL</td>\n",
       "      <td>2019-12-31</td>\n",
       "      <td>4523.0</td>\n",
       "      <td>1979675</td>\n",
       "      <td>4523.0</td>\n",
       "      <td>True</td>\n",
       "    </tr>\n",
       "    <tr>\n",
       "      <th>2</th>\n",
       "      <td>2</td>\n",
       "      <td>AL</td>\n",
       "      <td>2019-12-31</td>\n",
       "      <td>6113.0</td>\n",
       "      <td>501601</td>\n",
       "      <td>NaN</td>\n",
       "      <td>False</td>\n",
       "    </tr>\n",
       "    <tr>\n",
       "      <th>3</th>\n",
       "      <td>3</td>\n",
       "      <td>AL</td>\n",
       "      <td>2020-01-31</td>\n",
       "      <td>4461.0</td>\n",
       "      <td>540199</td>\n",
       "      <td>4461.0</td>\n",
       "      <td>True</td>\n",
       "    </tr>\n",
       "    <tr>\n",
       "      <th>4</th>\n",
       "      <td>4</td>\n",
       "      <td>AL</td>\n",
       "      <td>2020-01-31</td>\n",
       "      <td>4523.0</td>\n",
       "      <td>1890415</td>\n",
       "      <td>4523.0</td>\n",
       "      <td>True</td>\n",
       "    </tr>\n",
       "  </tbody>\n",
       "</table>\n",
       "</div>"
      ],
      "text/plain": [
       "       Unnamed: 0 region        date  naics_4  raw_visit_counts  naics_code  \\\n",
       "index                                                                         \n",
       "0               0     AL  2019-12-31   4461.0            602451      4461.0   \n",
       "1               1     AL  2019-12-31   4523.0           1979675      4523.0   \n",
       "2               2     AL  2019-12-31   6113.0            501601         NaN   \n",
       "3               3     AL  2020-01-31   4461.0            540199      4461.0   \n",
       "4               4     AL  2020-01-31   4523.0           1890415      4523.0   \n",
       "\n",
       "       essential  \n",
       "index             \n",
       "0           True  \n",
       "1           True  \n",
       "2          False  \n",
       "3           True  \n",
       "4           True  "
      ]
     },
     "execution_count": 70,
     "metadata": {},
     "output_type": "execute_result"
    }
   ],
   "source": [
    "naics_essential['essential'] = naics_essential['essential'].apply(lambda x: True if x == True else False, meta=('essential', 'bool'))"
   ]
  },
  {
   "cell_type": "code",
   "execution_count": 80,
   "metadata": {},
   "outputs": [],
   "source": [
    "output_grouped = naics_essential.groupby(['region', 'date', 'essential']).raw_visit_counts.sum().reset_index().compute()"
   ]
  },
  {
   "cell_type": "code",
   "execution_count": 81,
   "metadata": {},
   "outputs": [
    {
     "data": {
      "text/html": [
       "<div>\n",
       "<style scoped>\n",
       "    .dataframe tbody tr th:only-of-type {\n",
       "        vertical-align: middle;\n",
       "    }\n",
       "\n",
       "    .dataframe tbody tr th {\n",
       "        vertical-align: top;\n",
       "    }\n",
       "\n",
       "    .dataframe thead th {\n",
       "        text-align: right;\n",
       "    }\n",
       "</style>\n",
       "<table border=\"1\" class=\"dataframe\">\n",
       "  <thead>\n",
       "    <tr style=\"text-align: right;\">\n",
       "      <th></th>\n",
       "      <th>region</th>\n",
       "      <th>date</th>\n",
       "      <th>raw_visit_counts</th>\n",
       "    </tr>\n",
       "  </thead>\n",
       "  <tbody>\n",
       "    <tr>\n",
       "      <th>0</th>\n",
       "      <td>AK</td>\n",
       "      <td>2019-12-31</td>\n",
       "      <td>1408351</td>\n",
       "    </tr>\n",
       "    <tr>\n",
       "      <th>1</th>\n",
       "      <td>AK</td>\n",
       "      <td>2020-01-31</td>\n",
       "      <td>1182579</td>\n",
       "    </tr>\n",
       "    <tr>\n",
       "      <th>2</th>\n",
       "      <td>AK</td>\n",
       "      <td>2020-02-29</td>\n",
       "      <td>885353</td>\n",
       "    </tr>\n",
       "    <tr>\n",
       "      <th>3</th>\n",
       "      <td>AL</td>\n",
       "      <td>2019-12-31</td>\n",
       "      <td>25137300</td>\n",
       "    </tr>\n",
       "    <tr>\n",
       "      <th>4</th>\n",
       "      <td>AL</td>\n",
       "      <td>2020-01-31</td>\n",
       "      <td>24040201</td>\n",
       "    </tr>\n",
       "  </tbody>\n",
       "</table>\n",
       "</div>"
      ],
      "text/plain": [
       "  region        date  raw_visit_counts\n",
       "0     AK  2019-12-31           1408351\n",
       "1     AK  2020-01-31           1182579\n",
       "2     AK  2020-02-29            885353\n",
       "3     AL  2019-12-31          25137300\n",
       "4     AL  2020-01-31          24040201"
      ]
     },
     "execution_count": 81,
     "metadata": {},
     "output_type": "execute_result"
    }
   ],
   "source": [
    "output_total = naics_essential.groupby(['region', 'date']).raw_visit_counts.sum().reset_index().compute()\n",
    "output_total.head()"
   ]
  },
  {
   "cell_type": "code",
   "execution_count": 82,
   "metadata": {},
   "outputs": [],
   "source": [
    "output_grouped = output_grouped.merge(output_total, how='left', on=['region', 'date']).rename(columns = {'raw_visit_counts_x': 'visits', 'raw_visit_counts_y': 'total_visits'})"
   ]
  },
  {
   "cell_type": "code",
   "execution_count": 84,
   "metadata": {},
   "outputs": [
    {
     "name": "stderr",
     "output_type": "stream",
     "text": [
      "tornado.application - ERROR - Uncaught exception GET /status (127.0.0.1)\n",
      "HTTPServerRequest(protocol='http', host='localhost:8787', method='GET', uri='/status', version='HTTP/1.1', remote_ip='127.0.0.1')\n",
      "Traceback (most recent call last):\n",
      "  File \"/Users/raac/Development/covid/mobility-analysis/venv/lib/python3.7/site-packages/tornado/web.py\", line 1703, in _execute\n",
      "  File \"/Users/raac/Development/covid/mobility-analysis/venv/lib/python3.7/site-packages/bokeh/server/views/doc_handler.py\", line 52, in get\n",
      "  File \"/Users/raac/Development/covid/mobility-analysis/venv/lib/python3.7/site-packages/bokeh/server/views/session_handler.py\", line 112, in get_session\n",
      "  File \"/Users/raac/Development/covid/mobility-analysis/venv/lib/python3.7/site-packages/bokeh/util/token.py\", line 112, in generate_jwt_token\n",
      "  File \"/Users/raac/Development/covid/mobility-analysis/venv/lib/python3.7/site-packages/bokeh/util/token.py\", line 265, in _base64_encode\n",
      "LookupError: unknown encoding: ascii\n"
     ]
    }
   ],
   "source": [
    "output_grouped.to_csv(\"data/output/State-NAICS-Visits.csv\")"
   ]
  },
  {
   "cell_type": "code",
   "execution_count": null,
   "metadata": {},
   "outputs": [],
   "source": []
  }
 ],
 "metadata": {
  "kernelspec": {
   "display_name": "Python 3",
   "language": "python",
   "name": "python3"
  },
  "language_info": {
   "codemirror_mode": {
    "name": "ipython",
    "version": 3
   },
   "file_extension": ".py",
   "mimetype": "text/x-python",
   "name": "python",
   "nbconvert_exporter": "python",
   "pygments_lexer": "ipython3",
   "version": "3.7.7"
  }
 },
 "nbformat": 4,
 "nbformat_minor": 4
}
